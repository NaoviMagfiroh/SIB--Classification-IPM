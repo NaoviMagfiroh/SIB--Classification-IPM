{
 "cells": [
  {
   "cell_type": "markdown",
   "metadata": {},
   "source": [
    "Nama  : Naovi Magfiroh \n",
    "\n",
    "NIM   : 20090125 \n",
    "\n",
    "Kelas : Ular\n",
    "\n"
   ]
  },
  {
   "cell_type": "markdown",
   "metadata": {},
   "source": [
    "## Langkah 1 (Problem Solving)"
   ]
  },
  {
   "cell_type": "markdown",
   "metadata": {},
   "source": [
    "Indeks Pembangunan Manusia (IPM) adalah mengukur capaian pembangunan manusia berbasis sejumlah komponen dasar kualitas hidup. IPM digunakan sebagai indikator untuk\n",
    "menilai aspek kualitas dari pembangunan dan untuk mengklasifikasikan apakah  indeks pembangunan manusia tergolong kedalam very high,high,normal,atau low.\n",
    "\n",
    "Pada Ujian Praktek Data Science ini,saya menggunakan dataset IPM.Didalam dataset terdapat 4 variabel yang bisa dikelola antara lain Harapan Lama Sekolah,Pengeluaran Perkapita,Rerata Lama Sekolah,dan Usia Harapan Hidup.Dari keempat variabel tersebut,Saya akan mengelompokkan jenis IPM yaitu very high,high,normal dan low.\n",
    "\n",
    "Saya akan menggunakan Algoritma Mechine Learning yaitu klasifikasi random forest(perbandingan entropy dan gini) dan klasifikasi K-Nearest Neighbors pada Indeks Pembangunan Masyarakat.\n"
   ]
  },
  {
   "cell_type": "markdown",
   "metadata": {},
   "source": [
    "## Langkah 2 (Data Acquisition)"
   ]
  },
  {
   "cell_type": "markdown",
   "metadata": {},
   "source": [
    "Pertama-tama,kita import terlebih dahulu library yang akan digunakan."
   ]
  },
  {
   "cell_type": "markdown",
   "metadata": {},
   "source": [
    "Import Library"
   ]
  },
  {
   "cell_type": "code",
   "execution_count": 1,
   "metadata": {},
   "outputs": [],
   "source": [
    "import numpy as np\n",
    "import pandas as pd\n",
    "import matplotlib.pyplot as plt\n",
    "import seaborn as sns\n",
    "import warnings\n",
    "warnings.filterwarnings('ignore')\n",
    "from sklearn.preprocessing import LabelEncoder\n",
    "from sklearn.model_selection import train_test_split\n",
    "from sklearn.ensemble import AdaBoostClassifier\n",
    "from sklearn.metrics import accuracy_score\n",
    "from sklearn.ensemble import RandomForestClassifier\n",
    "from sklearn.neighbors import KNeighborsClassifier\n",
    "from sklearn.metrics import classification_report, confusion_matrix, accuracy_score"
   ]
  },
  {
   "cell_type": "markdown",
   "metadata": {},
   "source": [
    "Import Dataset"
   ]
  },
  {
   "cell_type": "markdown",
   "metadata": {},
   "source": [
    "Data IPM yang saya gunakan diperoleh dari Orbit Future Academy dengan format csv."
   ]
  },
  {
   "cell_type": "code",
   "execution_count": 553,
   "metadata": {},
   "outputs": [],
   "source": [
    "dataIPM = pd.read_csv('IPM.csv')"
   ]
  },
  {
   "cell_type": "markdown",
   "metadata": {},
   "source": [
    "Panggil data IPM yang sudah dibuat seperti dibawah ini"
   ]
  },
  {
   "cell_type": "code",
   "execution_count": 554,
   "metadata": {},
   "outputs": [
    {
     "data": {
      "text/html": [
       "<div>\n",
       "<style scoped>\n",
       "    .dataframe tbody tr th:only-of-type {\n",
       "        vertical-align: middle;\n",
       "    }\n",
       "\n",
       "    .dataframe tbody tr th {\n",
       "        vertical-align: top;\n",
       "    }\n",
       "\n",
       "    .dataframe thead th {\n",
       "        text-align: right;\n",
       "    }\n",
       "</style>\n",
       "<table border=\"1\" class=\"dataframe\">\n",
       "  <thead>\n",
       "    <tr style=\"text-align: right;\">\n",
       "      <th></th>\n",
       "      <th>Harapan_Lama_Sekolah</th>\n",
       "      <th>Pengeluaran_Perkapita</th>\n",
       "      <th>Rerata_Lama_Sekolah</th>\n",
       "      <th>Usia_Harapan_Hidup</th>\n",
       "      <th>IPM</th>\n",
       "    </tr>\n",
       "  </thead>\n",
       "  <tbody>\n",
       "    <tr>\n",
       "      <th>0</th>\n",
       "      <td>14.36</td>\n",
       "      <td>9572</td>\n",
       "      <td>9.37</td>\n",
       "      <td>69.96</td>\n",
       "      <td>High</td>\n",
       "    </tr>\n",
       "    <tr>\n",
       "      <th>1</th>\n",
       "      <td>13.90</td>\n",
       "      <td>7148</td>\n",
       "      <td>9.48</td>\n",
       "      <td>65.28</td>\n",
       "      <td>Normal</td>\n",
       "    </tr>\n",
       "    <tr>\n",
       "      <th>2</th>\n",
       "      <td>14.32</td>\n",
       "      <td>8776</td>\n",
       "      <td>8.68</td>\n",
       "      <td>67.43</td>\n",
       "      <td>Normal</td>\n",
       "    </tr>\n",
       "    <tr>\n",
       "      <th>3</th>\n",
       "      <td>14.60</td>\n",
       "      <td>8180</td>\n",
       "      <td>8.88</td>\n",
       "      <td>64.40</td>\n",
       "      <td>Normal</td>\n",
       "    </tr>\n",
       "    <tr>\n",
       "      <th>4</th>\n",
       "      <td>14.01</td>\n",
       "      <td>8030</td>\n",
       "      <td>9.67</td>\n",
       "      <td>68.22</td>\n",
       "      <td>Normal</td>\n",
       "    </tr>\n",
       "    <tr>\n",
       "      <th>...</th>\n",
       "      <td>...</td>\n",
       "      <td>...</td>\n",
       "      <td>...</td>\n",
       "      <td>...</td>\n",
       "      <td>...</td>\n",
       "    </tr>\n",
       "    <tr>\n",
       "      <th>2191</th>\n",
       "      <td>10.13</td>\n",
       "      <td>5522</td>\n",
       "      <td>4.91</td>\n",
       "      <td>65.32</td>\n",
       "      <td>Low</td>\n",
       "    </tr>\n",
       "    <tr>\n",
       "      <th>2192</th>\n",
       "      <td>7.11</td>\n",
       "      <td>5440</td>\n",
       "      <td>2.51</td>\n",
       "      <td>65.26</td>\n",
       "      <td>Low</td>\n",
       "    </tr>\n",
       "    <tr>\n",
       "      <th>2193</th>\n",
       "      <td>9.79</td>\n",
       "      <td>4761</td>\n",
       "      <td>2.99</td>\n",
       "      <td>64.83</td>\n",
       "      <td>Low</td>\n",
       "    </tr>\n",
       "    <tr>\n",
       "      <th>2194</th>\n",
       "      <td>14.99</td>\n",
       "      <td>14922</td>\n",
       "      <td>11.30</td>\n",
       "      <td>70.15</td>\n",
       "      <td>High</td>\n",
       "    </tr>\n",
       "    <tr>\n",
       "      <th>2195</th>\n",
       "      <td>12.91</td>\n",
       "      <td>11059</td>\n",
       "      <td>8.17</td>\n",
       "      <td>71.20</td>\n",
       "      <td>High</td>\n",
       "    </tr>\n",
       "  </tbody>\n",
       "</table>\n",
       "<p>2196 rows × 5 columns</p>\n",
       "</div>"
      ],
      "text/plain": [
       "      Harapan_Lama_Sekolah  Pengeluaran_Perkapita  Rerata_Lama_Sekolah  \\\n",
       "0                    14.36                   9572                 9.37   \n",
       "1                    13.90                   7148                 9.48   \n",
       "2                    14.32                   8776                 8.68   \n",
       "3                    14.60                   8180                 8.88   \n",
       "4                    14.01                   8030                 9.67   \n",
       "...                    ...                    ...                  ...   \n",
       "2191                 10.13                   5522                 4.91   \n",
       "2192                  7.11                   5440                 2.51   \n",
       "2193                  9.79                   4761                 2.99   \n",
       "2194                 14.99                  14922                11.30   \n",
       "2195                 12.91                  11059                 8.17   \n",
       "\n",
       "      Usia_Harapan_Hidup     IPM  \n",
       "0                  69.96    High  \n",
       "1                  65.28  Normal  \n",
       "2                  67.43  Normal  \n",
       "3                  64.40  Normal  \n",
       "4                  68.22  Normal  \n",
       "...                  ...     ...  \n",
       "2191               65.32     Low  \n",
       "2192               65.26     Low  \n",
       "2193               64.83     Low  \n",
       "2194               70.15    High  \n",
       "2195               71.20    High  \n",
       "\n",
       "[2196 rows x 5 columns]"
      ]
     },
     "execution_count": 554,
     "metadata": {},
     "output_type": "execute_result"
    }
   ],
   "source": [
    "dataIPM"
   ]
  },
  {
   "cell_type": "markdown",
   "metadata": {},
   "source": [
    "## Langkah 3 (Data Exploration)"
   ]
  },
  {
   "cell_type": "markdown",
   "metadata": {},
   "source": [
    "Melakukan proses Menampilkan 5 data IPM teratas"
   ]
  },
  {
   "cell_type": "code",
   "execution_count": 555,
   "metadata": {},
   "outputs": [
    {
     "data": {
      "text/html": [
       "<div>\n",
       "<style scoped>\n",
       "    .dataframe tbody tr th:only-of-type {\n",
       "        vertical-align: middle;\n",
       "    }\n",
       "\n",
       "    .dataframe tbody tr th {\n",
       "        vertical-align: top;\n",
       "    }\n",
       "\n",
       "    .dataframe thead th {\n",
       "        text-align: right;\n",
       "    }\n",
       "</style>\n",
       "<table border=\"1\" class=\"dataframe\">\n",
       "  <thead>\n",
       "    <tr style=\"text-align: right;\">\n",
       "      <th></th>\n",
       "      <th>Harapan_Lama_Sekolah</th>\n",
       "      <th>Pengeluaran_Perkapita</th>\n",
       "      <th>Rerata_Lama_Sekolah</th>\n",
       "      <th>Usia_Harapan_Hidup</th>\n",
       "      <th>IPM</th>\n",
       "    </tr>\n",
       "  </thead>\n",
       "  <tbody>\n",
       "    <tr>\n",
       "      <th>0</th>\n",
       "      <td>14.36</td>\n",
       "      <td>9572</td>\n",
       "      <td>9.37</td>\n",
       "      <td>69.96</td>\n",
       "      <td>High</td>\n",
       "    </tr>\n",
       "    <tr>\n",
       "      <th>1</th>\n",
       "      <td>13.90</td>\n",
       "      <td>7148</td>\n",
       "      <td>9.48</td>\n",
       "      <td>65.28</td>\n",
       "      <td>Normal</td>\n",
       "    </tr>\n",
       "    <tr>\n",
       "      <th>2</th>\n",
       "      <td>14.32</td>\n",
       "      <td>8776</td>\n",
       "      <td>8.68</td>\n",
       "      <td>67.43</td>\n",
       "      <td>Normal</td>\n",
       "    </tr>\n",
       "    <tr>\n",
       "      <th>3</th>\n",
       "      <td>14.60</td>\n",
       "      <td>8180</td>\n",
       "      <td>8.88</td>\n",
       "      <td>64.40</td>\n",
       "      <td>Normal</td>\n",
       "    </tr>\n",
       "    <tr>\n",
       "      <th>4</th>\n",
       "      <td>14.01</td>\n",
       "      <td>8030</td>\n",
       "      <td>9.67</td>\n",
       "      <td>68.22</td>\n",
       "      <td>Normal</td>\n",
       "    </tr>\n",
       "  </tbody>\n",
       "</table>\n",
       "</div>"
      ],
      "text/plain": [
       "   Harapan_Lama_Sekolah  Pengeluaran_Perkapita  Rerata_Lama_Sekolah  \\\n",
       "0                 14.36                   9572                 9.37   \n",
       "1                 13.90                   7148                 9.48   \n",
       "2                 14.32                   8776                 8.68   \n",
       "3                 14.60                   8180                 8.88   \n",
       "4                 14.01                   8030                 9.67   \n",
       "\n",
       "   Usia_Harapan_Hidup     IPM  \n",
       "0               69.96    High  \n",
       "1               65.28  Normal  \n",
       "2               67.43  Normal  \n",
       "3               64.40  Normal  \n",
       "4               68.22  Normal  "
      ]
     },
     "execution_count": 555,
     "metadata": {},
     "output_type": "execute_result"
    }
   ],
   "source": [
    "dataIPM.head()"
   ]
  },
  {
   "cell_type": "markdown",
   "metadata": {},
   "source": [
    "Melakukan proses Menampilkan 5 data IPM terbawah"
   ]
  },
  {
   "cell_type": "code",
   "execution_count": 556,
   "metadata": {},
   "outputs": [
    {
     "data": {
      "text/html": [
       "<div>\n",
       "<style scoped>\n",
       "    .dataframe tbody tr th:only-of-type {\n",
       "        vertical-align: middle;\n",
       "    }\n",
       "\n",
       "    .dataframe tbody tr th {\n",
       "        vertical-align: top;\n",
       "    }\n",
       "\n",
       "    .dataframe thead th {\n",
       "        text-align: right;\n",
       "    }\n",
       "</style>\n",
       "<table border=\"1\" class=\"dataframe\">\n",
       "  <thead>\n",
       "    <tr style=\"text-align: right;\">\n",
       "      <th></th>\n",
       "      <th>Harapan_Lama_Sekolah</th>\n",
       "      <th>Pengeluaran_Perkapita</th>\n",
       "      <th>Rerata_Lama_Sekolah</th>\n",
       "      <th>Usia_Harapan_Hidup</th>\n",
       "      <th>IPM</th>\n",
       "    </tr>\n",
       "  </thead>\n",
       "  <tbody>\n",
       "    <tr>\n",
       "      <th>2191</th>\n",
       "      <td>10.13</td>\n",
       "      <td>5522</td>\n",
       "      <td>4.91</td>\n",
       "      <td>65.32</td>\n",
       "      <td>Low</td>\n",
       "    </tr>\n",
       "    <tr>\n",
       "      <th>2192</th>\n",
       "      <td>7.11</td>\n",
       "      <td>5440</td>\n",
       "      <td>2.51</td>\n",
       "      <td>65.26</td>\n",
       "      <td>Low</td>\n",
       "    </tr>\n",
       "    <tr>\n",
       "      <th>2193</th>\n",
       "      <td>9.79</td>\n",
       "      <td>4761</td>\n",
       "      <td>2.99</td>\n",
       "      <td>64.83</td>\n",
       "      <td>Low</td>\n",
       "    </tr>\n",
       "    <tr>\n",
       "      <th>2194</th>\n",
       "      <td>14.99</td>\n",
       "      <td>14922</td>\n",
       "      <td>11.30</td>\n",
       "      <td>70.15</td>\n",
       "      <td>High</td>\n",
       "    </tr>\n",
       "    <tr>\n",
       "      <th>2195</th>\n",
       "      <td>12.91</td>\n",
       "      <td>11059</td>\n",
       "      <td>8.17</td>\n",
       "      <td>71.20</td>\n",
       "      <td>High</td>\n",
       "    </tr>\n",
       "  </tbody>\n",
       "</table>\n",
       "</div>"
      ],
      "text/plain": [
       "      Harapan_Lama_Sekolah  Pengeluaran_Perkapita  Rerata_Lama_Sekolah  \\\n",
       "2191                 10.13                   5522                 4.91   \n",
       "2192                  7.11                   5440                 2.51   \n",
       "2193                  9.79                   4761                 2.99   \n",
       "2194                 14.99                  14922                11.30   \n",
       "2195                 12.91                  11059                 8.17   \n",
       "\n",
       "      Usia_Harapan_Hidup   IPM  \n",
       "2191               65.32   Low  \n",
       "2192               65.26   Low  \n",
       "2193               64.83   Low  \n",
       "2194               70.15  High  \n",
       "2195               71.20  High  "
      ]
     },
     "execution_count": 556,
     "metadata": {},
     "output_type": "execute_result"
    }
   ],
   "source": [
    "dataIPM.tail()"
   ]
  },
  {
   "cell_type": "markdown",
   "metadata": {},
   "source": [
    "Melakukan proses pengecekan dimensi pada data IPM"
   ]
  },
  {
   "cell_type": "code",
   "execution_count": 557,
   "metadata": {},
   "outputs": [
    {
     "data": {
      "text/plain": [
       "(2196, 5)"
      ]
     },
     "execution_count": 557,
     "metadata": {},
     "output_type": "execute_result"
    }
   ],
   "source": [
    "dataIPM.shape"
   ]
  },
  {
   "cell_type": "markdown",
   "metadata": {},
   "source": [
    "Setelah dicek,data IPM terdiri dari 2196 data dengan jumlah kolom 5"
   ]
  },
  {
   "cell_type": "markdown",
   "metadata": {},
   "source": [
    "Melakukan proses pengecekan apakah terdapat data IPM yang duplikat"
   ]
  },
  {
   "cell_type": "code",
   "execution_count": 558,
   "metadata": {},
   "outputs": [
    {
     "data": {
      "text/plain": [
       "0"
      ]
     },
     "execution_count": 558,
     "metadata": {},
     "output_type": "execute_result"
    }
   ],
   "source": [
    "dataIPM.duplicated().sum()"
   ]
  },
  {
   "cell_type": "markdown",
   "metadata": {},
   "source": [
    "Setelah dicek,data IPM tidak ada data yang duplikat(0)"
   ]
  },
  {
   "cell_type": "markdown",
   "metadata": {},
   "source": [
    "Melakukan proses pengecekan apakah terdapat data IPM yang eror"
   ]
  },
  {
   "cell_type": "code",
   "execution_count": 559,
   "metadata": {},
   "outputs": [
    {
     "data": {
      "text/plain": [
       "Harapan_Lama_Sekolah     0\n",
       "Pengeluaran_Perkapita    0\n",
       "Rerata_Lama_Sekolah      0\n",
       "Usia_Harapan_Hidup       0\n",
       "IPM                      0\n",
       "dtype: int64"
      ]
     },
     "execution_count": 559,
     "metadata": {},
     "output_type": "execute_result"
    }
   ],
   "source": [
    "dataIPM.isnull().sum()"
   ]
  },
  {
   "cell_type": "markdown",
   "metadata": {},
   "source": [
    "Setelah dicek,data IPM tidak ada data yang eror"
   ]
  },
  {
   "cell_type": "markdown",
   "metadata": {},
   "source": [
    "Melakukan proses melihat informasi pada data IPM"
   ]
  },
  {
   "cell_type": "code",
   "execution_count": 560,
   "metadata": {},
   "outputs": [
    {
     "name": "stdout",
     "output_type": "stream",
     "text": [
      "<class 'pandas.core.frame.DataFrame'>\n",
      "RangeIndex: 2196 entries, 0 to 2195\n",
      "Data columns (total 5 columns):\n",
      " #   Column                 Non-Null Count  Dtype  \n",
      "---  ------                 --------------  -----  \n",
      " 0   Harapan_Lama_Sekolah   2196 non-null   float64\n",
      " 1   Pengeluaran_Perkapita  2196 non-null   int64  \n",
      " 2   Rerata_Lama_Sekolah    2196 non-null   float64\n",
      " 3   Usia_Harapan_Hidup     2196 non-null   float64\n",
      " 4   IPM                    2196 non-null   object \n",
      "dtypes: float64(3), int64(1), object(1)\n",
      "memory usage: 85.9+ KB\n"
     ]
    }
   ],
   "source": [
    "dataIPM.info()"
   ]
  },
  {
   "cell_type": "markdown",
   "metadata": {},
   "source": [
    "Bisa kita lihat,bahwa data IPM terdiri dari 2196 data dengan jumlah kolom 5 antara lain harapan lama sekolah dengan tipe data float,pengeluaran perkapita dengan tipe data integer,rerata lama sekolah dengan tipe data float,usia harapan hidup dengan tipe data float,dan IPM dengan tipe data object."
   ]
  },
  {
   "cell_type": "markdown",
   "metadata": {},
   "source": [
    "Melakukan proses melihat dekripsi pada data IPM"
   ]
  },
  {
   "cell_type": "code",
   "execution_count": 561,
   "metadata": {},
   "outputs": [
    {
     "data": {
      "text/html": [
       "<div>\n",
       "<style scoped>\n",
       "    .dataframe tbody tr th:only-of-type {\n",
       "        vertical-align: middle;\n",
       "    }\n",
       "\n",
       "    .dataframe tbody tr th {\n",
       "        vertical-align: top;\n",
       "    }\n",
       "\n",
       "    .dataframe thead th {\n",
       "        text-align: right;\n",
       "    }\n",
       "</style>\n",
       "<table border=\"1\" class=\"dataframe\">\n",
       "  <thead>\n",
       "    <tr style=\"text-align: right;\">\n",
       "      <th></th>\n",
       "      <th>Harapan_Lama_Sekolah</th>\n",
       "      <th>Pengeluaran_Perkapita</th>\n",
       "      <th>Rerata_Lama_Sekolah</th>\n",
       "      <th>Usia_Harapan_Hidup</th>\n",
       "    </tr>\n",
       "  </thead>\n",
       "  <tbody>\n",
       "    <tr>\n",
       "      <th>count</th>\n",
       "      <td>2196.000000</td>\n",
       "      <td>2196.000000</td>\n",
       "      <td>2196.000000</td>\n",
       "      <td>2196.000000</td>\n",
       "    </tr>\n",
       "    <tr>\n",
       "      <th>mean</th>\n",
       "      <td>12.931498</td>\n",
       "      <td>10323.144353</td>\n",
       "      <td>8.291585</td>\n",
       "      <td>69.467418</td>\n",
       "    </tr>\n",
       "    <tr>\n",
       "      <th>std</th>\n",
       "      <td>1.312967</td>\n",
       "      <td>2664.738311</td>\n",
       "      <td>1.611256</td>\n",
       "      <td>3.437536</td>\n",
       "    </tr>\n",
       "    <tr>\n",
       "      <th>min</th>\n",
       "      <td>2.950000</td>\n",
       "      <td>3975.000000</td>\n",
       "      <td>0.850000</td>\n",
       "      <td>54.820000</td>\n",
       "    </tr>\n",
       "    <tr>\n",
       "      <th>25%</th>\n",
       "      <td>12.350000</td>\n",
       "      <td>8599.750000</td>\n",
       "      <td>7.390000</td>\n",
       "      <td>67.210000</td>\n",
       "    </tr>\n",
       "    <tr>\n",
       "      <th>50%</th>\n",
       "      <td>12.860000</td>\n",
       "      <td>10192.500000</td>\n",
       "      <td>8.180000</td>\n",
       "      <td>69.785000</td>\n",
       "    </tr>\n",
       "    <tr>\n",
       "      <th>75%</th>\n",
       "      <td>13.570000</td>\n",
       "      <td>11670.500000</td>\n",
       "      <td>9.180000</td>\n",
       "      <td>71.712500</td>\n",
       "    </tr>\n",
       "    <tr>\n",
       "      <th>max</th>\n",
       "      <td>17.800000</td>\n",
       "      <td>23888.000000</td>\n",
       "      <td>12.830000</td>\n",
       "      <td>77.730000</td>\n",
       "    </tr>\n",
       "  </tbody>\n",
       "</table>\n",
       "</div>"
      ],
      "text/plain": [
       "       Harapan_Lama_Sekolah  Pengeluaran_Perkapita  Rerata_Lama_Sekolah  \\\n",
       "count           2196.000000            2196.000000          2196.000000   \n",
       "mean              12.931498           10323.144353             8.291585   \n",
       "std                1.312967            2664.738311             1.611256   \n",
       "min                2.950000            3975.000000             0.850000   \n",
       "25%               12.350000            8599.750000             7.390000   \n",
       "50%               12.860000           10192.500000             8.180000   \n",
       "75%               13.570000           11670.500000             9.180000   \n",
       "max               17.800000           23888.000000            12.830000   \n",
       "\n",
       "       Usia_Harapan_Hidup  \n",
       "count         2196.000000  \n",
       "mean            69.467418  \n",
       "std              3.437536  \n",
       "min             54.820000  \n",
       "25%             67.210000  \n",
       "50%             69.785000  \n",
       "75%             71.712500  \n",
       "max             77.730000  "
      ]
     },
     "execution_count": 561,
     "metadata": {},
     "output_type": "execute_result"
    }
   ],
   "source": [
    "dataIPM.describe()"
   ]
  },
  {
   "cell_type": "markdown",
   "metadata": {},
   "source": [
    "Melakukan proses pengecekan apakah terdapat data unik pada data IPM "
   ]
  },
  {
   "cell_type": "code",
   "execution_count": 562,
   "metadata": {},
   "outputs": [
    {
     "data": {
      "text/plain": [
       "Harapan_Lama_Sekolah      499\n",
       "Pengeluaran_Perkapita    1930\n",
       "Rerata_Lama_Sekolah       633\n",
       "Usia_Harapan_Hidup       1054\n",
       "IPM                         4\n",
       "dtype: int64"
      ]
     },
     "execution_count": 562,
     "metadata": {},
     "output_type": "execute_result"
    }
   ],
   "source": [
    "dataIPM.nunique()"
   ]
  },
  {
   "cell_type": "markdown",
   "metadata": {},
   "source": [
    "Setelah dicek,ternyata terdapat banyak data unik karena pada variabel harapan lama sekolah,pengeluaran perkapita,rerata lama sekolah,dan usia harapan hidup menggunakan data numerik sehingga hasilnya pun bervariasi.Beda halnya dengan variabel IPM yang menggunakan data kategorik sehingga mempunyai 4 data unik yaitu very high,high,normal,dan low."
   ]
  },
  {
   "cell_type": "markdown",
   "metadata": {},
   "source": [
    "VISUALISASI DATA"
   ]
  },
  {
   "cell_type": "markdown",
   "metadata": {},
   "source": [
    "Plot untuk jumlah IPM terbanyak berdasarkan total seluruh data menggunakan histogram"
   ]
  },
  {
   "cell_type": "code",
   "execution_count": 563,
   "metadata": {},
   "outputs": [
    {
     "data": {
      "text/plain": [
       "<AxesSubplot:xlabel='IPM', ylabel='Count'>"
      ]
     },
     "execution_count": 563,
     "metadata": {},
     "output_type": "execute_result"
    },
    {
     "data": {
      "image/png": "[encoded data removed]",
      "text/plain": [
       "<Figure size 432x288 with 1 Axes>"
      ]
     },
     "metadata": {
      "needs_background": "light"
     },
     "output_type": "display_data"
    }
   ],
   "source": [
    "sns.histplot(data=dataIPM, x= \"IPM\")"
   ]
  },
  {
   "cell_type": "markdown",
   "metadata": {},
   "source": [
    "Dari data IPM,dapat disimpulkan bahwa mayoritas data IPM tergolong kedalam kategori normal dengan total data berkisar 1200."
   ]
  },
  {
   "cell_type": "markdown",
   "metadata": {},
   "source": [
    "Plot untuk jumlah IPM terbanyak berdasarkan total seluruh data dalam persentase menggunakan pie"
   ]
  },
  {
   "cell_type": "code",
   "execution_count": 564,
   "metadata": {},
   "outputs": [
    {
     "data": {
      "image/png": "[encoded data removed]",
      "text/plain": [
       "<Figure size 1080x432 with 1 Axes>"
      ]
     },
     "metadata": {},
     "output_type": "display_data"
    }
   ],
   "source": [
    "plt.figure(figsize=(15,6))\n",
    "dataIPM['IPM'].value_counts().plot(kind='pie',autopct='%1.1f%%')\n",
    "plt.show()"
   ]
  },
  {
   "cell_type": "markdown",
   "metadata": {},
   "source": [
    "Dan setelah dilakukan persentase total jumlah kategori normal sebesar 51.45%, high 37.8%, very high 6.6% dan low 4.2%"
   ]
  },
  {
   "cell_type": "markdown",
   "metadata": {},
   "source": [
    "Melakukan proses melihat nilai kategori dari tiap variabel"
   ]
  },
  {
   "cell_type": "code",
   "execution_count": 565,
   "metadata": {},
   "outputs": [
    {
     "name": "stdout",
     "output_type": "stream",
     "text": [
      "[14.36 13.9  14.32 14.6  14.01 13.04 14.28 14.61 14.73 14.47 14.84 14.71\n",
      " 13.65 13.78 13.76 14.14 13.99 13.47 14.97 17.8  14.13 15.63 15.21 14.62\n",
      " 13.27 12.84 13.61 13.35 13.07 13.7  13.46 12.74 12.61 12.79 13.11 12.77\n",
      " 13.36 13.24 12.27 13.29 13.87 13.48 12.64 13.01 13.19 12.95 13.28 12.62\n",
      " 14.57 12.73 14.75 13.63 14.56 13.75 14.09 12.89 13.33 13.05 12.38 14.34\n",
      " 13.68 13.88 13.3  12.81 12.72 12.44 16.53 14.33 13.18 15.07 14.98 14.27\n",
      " 14.55 13.34 12.46 11.93 12.41 13.55 12.85 12.88 12.76 12.83 15.55 13.31\n",
      " 12.04 12.28 12.93 12.17 12.63 15.37 14.8  12.54 11.68 11.98 12.35 12.19\n",
      " 12.29 11.77 11.76 12.45 12.31 12.07 11.58 14.42 12.92 13.38 13.67 13.62\n",
      " 13.93 13.06 12.58 13.12 16.03 12.26 12.52 12.86 12.49 12.37 11.95 12.59\n",
      " 11.64 12.06 12.   14.7  12.78 11.86 11.7  12.1  11.38 11.63 13.16 12.98\n",
      " 12.57 13.26 13.91 13.17 13.96 12.24 12.7  12.03 14.2  12.23 11.71 12.12\n",
      " 13.1  11.88 12.08 13.42 13.58 14.21 13.13 14.1  13.81 13.03 13.51 12.55\n",
      " 13.39 13.84 12.5  13.69 12.94 13.32 12.32 12.96 12.13 12.42 11.96 12.05\n",
      " 14.15 14.88 15.42 15.53 15.64 15.38 16.74 17.6  12.65 13.74 12.47 13.44\n",
      " 13.43 12.36 14.94 13.57 12.87 14.04 12.68 12.22 13.77 11.73 15.27 15.75\n",
      " 13.6  14.41 14.81 14.16 13.02 13.49 14.66 13.4  13.97 13.   13.08 13.95\n",
      " 13.85 13.53 13.64 15.04 13.2  13.86 12.43 13.79 12.71 13.15 16.41 11.59\n",
      " 11.81 11.89 11.17 11.84 15.01 12.91 12.66 11.9  14.96 12.4  12.21 12.48\n",
      " 13.94 14.82 13.25 12.9  14.22 15.09 14.03 11.53 12.3  13.23 13.71 12.51\n",
      " 12.25 16.28 13.52 13.41 13.59 15.58 14.51 13.8  11.85 12.15 12.69 16.89\n",
      " 15.17 14.5  12.53 12.82 14.17 16.04 13.98 14.63 13.66 13.72 12.18 11.72\n",
      " 14.39 11.11 10.5   7.49 11.08 10.79  9.3   7.62  6.47  8.61 12.8  11.8\n",
      "  3.87  8.89  9.22  9.32  5.4  10.59  7.66  9.82 15.02 14.31 14.   14.72\n",
      " 14.46 14.83 17.79 15.35 15.2  13.45 12.6  14.45 14.74 14.54 14.02 16.52\n",
      " 15.06 14.26 11.91 15.54 11.99 12.16 15.1  14.79 11.42 11.97 12.34 11.75\n",
      " 11.57 13.37 13.83 12.99 16.02 14.64 11.37 11.52 14.12 14.06 12.97 12.11\n",
      " 12.09 13.09 11.87 13.92 11.46 13.5  12.56 12.2  12.75 12.14 12.01 12.67\n",
      " 14.87 15.41 15.52 15.59 16.73 17.43 13.73 14.93 12.39 11.6  15.26 15.51\n",
      " 14.4  13.89 15.   13.14 16.4  11.16 11.82 13.82 11.78 14.95 11.94 14.89\n",
      " 11.67 16.23 15.57 15.08 16.62 15.16 15.74 14.37 11.48 13.21 14.38 11.92\n",
      " 10.49  7.24 11.07 10.55  9.02  7.61  6.25  8.6  11.79  3.61  8.62  8.93\n",
      "  9.11  5.39 10.58  7.65  9.81 14.3  14.59 14.69 17.39 15.34 15.19 14.53\n",
      " 16.51 15.05 14.25 14.9  14.78 11.41 12.33 11.74 11.56 16.01 11.62 11.36\n",
      " 11.51 11.69 14.19 13.22 11.45 15.15 16.72 17.28 14.91 14.43 14.99 16.24\n",
      " 12.02 11.15 11.5  16.22 15.56 14.49 11.83 11.66 15.73 11.34 11.05 10.48\n",
      "  6.96 11.06 10.54  8.74  7.6   6.14  8.28  3.29  8.35  8.63  8.83  5.19\n",
      " 10.57  7.36  9.8  14.29 14.58 14.44 14.68 13.56 14.11 17.26 15.18 16.5\n",
      " 14.24 14.52 14.77 11.4  11.55 16.   11.61 14.23 11.35 11.49 14.08 14.18\n",
      " 15.5  15.03 16.71 17.05 15.4  16.08 11.54 11.13 11.3  16.2  15.72 11.32\n",
      " 11.33 10.83 11.14 10.47  6.59 10.99 10.53  8.47  7.59  5.79  8.04  2.95\n",
      "  8.01  8.33  8.46  4.93 10.13  7.11  9.79]\n",
      "[ 9572  7148  8776 ...  4761 14922 11059]\n",
      "[ 9.37  9.48  8.68  8.88  9.67  8.21  9.86  9.55 10.33  9.    9.29  8.64\n",
      "  8.67  8.4   8.91  8.69  8.71 10.    9.34 12.83 11.18 11.12 11.11  8.03\n",
      "  9.58  5.64  8.63  8.84  9.99 10.57  9.25  8.8   9.61  9.59 10.1   8.66\n",
      "  6.06  9.71  9.14  9.44  8.07  9.38  9.02  8.9   8.41  6.77  6.69 10.41\n",
      "  9.45 11.29 10.44 11.48 10.94 11.09  8.62  9.07  7.2   8.27  7.87  8.12\n",
      "  7.88  8.97  8.1   8.32  8.55 11.59 11.04 10.32 11.63 11.34 10.81 10.67\n",
      "  9.19  8.75  8.39  7.24  8.7   9.27  8.54  9.7   8.26  7.84 11.92 10.14\n",
      "  8.6   8.56  7.9   8.04  8.58  6.92  8.    7.59  8.28 11.2   8.3   7.05\n",
      "  7.8   8.52  7.53  7.63  7.44  7.85  7.56  7.64  7.09 10.75  9.97  9.4\n",
      "  9.9   8.87  8.33  8.09  8.38  8.18  8.29  7.48 11.8   8.08  7.34  7.7\n",
      "  7.77  8.34  7.71  7.55  7.08  7.39  8.19 10.95 10.97  8.25  8.47  6.71\n",
      " 10.13 10.18  8.92  6.88 11.15 10.26 11.17  8.81 11.64 11.67 11.39 10.78\n",
      "  8.61  8.31  7.1   7.19  7.31  6.52  7.11  7.78  9.3   8.2  10.53  9.81\n",
      " 10.99 10.12 11.31 11.46 11.08  9.52  8.77  7.75  7.25  6.75  6.82  7.79\n",
      "  9.35  8.57  7.66  6.99  7.3   8.76  7.86  7.46  7.17  6.45  6.22 10.62\n",
      " 10.9  10.66  9.18  8.73  9.64  9.57 10.92 11.72  7.61  7.5   7.43  6.67\n",
      "  6.49  7.42  5.94  6.62  6.12  7.41 10.72  7.82  8.36  7.26  7.38  7.18\n",
      "  9.56  5.96  4.86  6.7   5.92 10.15 10.35  8.95  9.33 10.47 11.37 10.5\n",
      "  9.31  8.93  6.41  7.51 10.83 10.08  8.89 11.82  9.06  8.35  8.14  6.33\n",
      "  6.42  6.29  8.15  8.72  7.91  6.04  9.54 10.65  7.69  6.84  7.32  6.74\n",
      "  7.96  7.36  8.42  8.23  7.72  6.95  8.53  6.47  6.35  7.35  6.66 11.6\n",
      "  7.45  6.72  6.8   7.12  7.04  6.85  6.91  6.02  7.   10.43  7.6   8.85\n",
      "  8.43  9.23 11.53  7.89  7.52  7.76  8.01  9.11  7.97 10.2  10.96  9.84\n",
      "  8.79  9.43  9.53 10.91 10.49 10.8   8.17  9.98  9.62  9.73  9.72  9.09\n",
      "  9.03  7.93 11.42  9.89 10.74 10.31  8.44  9.5   7.98  9.08  7.74  8.82\n",
      "  8.46  6.6   7.49  7.92  8.24  7.23  7.94  8.51 11.43  9.13  9.21  8.99\n",
      "  8.11  8.16  8.22  9.42  7.54 12.51  7.15 10.37 10.03  9.69  9.76  9.68\n",
      "  8.83  8.59  7.95 12.2   8.37  9.01  7.4   7.67 11.81  9.95  8.02  5.39\n",
      "  6.96  6.63  5.12 11.19  6.76  5.6  10.05 10.01  9.47 10.34  4.77  3.74\n",
      "  6.51  5.08  4.27  3.04  3.65  5.87  1.42  3.43  3.33  3.01  2.16  4.94\n",
      "  3.09  3.25 11.57  9.66  9.85  9.28  9.79 12.65 11.14  5.36 10.52  9.24\n",
      "  9.6  10.09  8.65  5.85  8.06  6.58 10.4  11.16 10.93 11.    8.96  7.99\n",
      " 11.58 11.03 10.17 11.62 11.33 10.73 10.59  8.5   9.26 11.68 10.07  7.58\n",
      "  7.62  9.96  9.39  7.47 11.79  8.05  7.22  9.92 10.25 11.13 11.66 11.38\n",
      " 10.63  7.07  7.57  7.27  6.3   9.12  9.91 11.28  6.97  6.81  7.33  7.65\n",
      "  6.83  7.16  7.68  6.87  6.98  6.21 10.39 10.69 10.42  8.86  7.21  6.4\n",
      "  6.48  5.93  6.46  6.11  7.81  7.06  5.95  4.85  5.71  9.93 10.11  9.87\n",
      "  9.04  8.13  6.32 11.47  6.28  5.91  9.46  6.73  6.94  7.37  6.25  6.34\n",
      "  6.65  7.03  6.01 11.52  9.1   9.77  9.22 10.68 10.48 10.79  8.94  9.49\n",
      "  9.51  7.83 11.27  9.88  9.41 11.61  6.59  7.29  7.73 11.21 10.45 10.76\n",
      "  9.15  8.98  7.01 10.64  7.13 10.36 11.71  5.24  5.51 10.04  4.57  3.62\n",
      "  8.78  6.31  4.26  2.81  3.64  9.2   5.66  1.13  3.2   3.15  2.79  2.15\n",
      "  4.93  2.84 11.56  8.48  9.65  9.78 12.64 11.1   5.15  8.49  9.36  5.53\n",
      "  8.74  6.14 10.28 10.77 10.7   8.45 11.02 11.45 11.32  6.5  11.78  6.61\n",
      "  9.8  11.06 11.65 11.25  7.02  5.99  6.93  7.14  6.86  6.2  10.54  7.28\n",
      "  6.18  5.77  4.55  5.46 10.24  9.74 10.38 11.23  6.37  6.27  5.84  6.53\n",
      "  6.89  6.   11.51  9.94  9.05 11.26 10.3  11.94  6.54 11.91  5.07  6.57\n",
      " 11.05  5.3  10.22  4.38  3.61  4.82  4.02  2.61  3.63  5.65  0.97  3.19\n",
      "  2.9   2.58  1.96  4.92  2.64  3.   11.55  9.17 12.6  10.89  5.2   6.09\n",
      " 11.01 11.44 10.46 11.22 10.61  6.36 11.24  5.98 10.85  6.19 10.51  9.32\n",
      "  6.07  5.62  5.33  4.36  5.23 10.16 10.06  5.97  6.16  5.81  5.76  6.68\n",
      "  5.86  6.79 10.29 11.69  9.63  4.97  5.17  4.2   3.51  4.74  4.01  2.49\n",
      "  0.85  3.18  2.78  2.44  1.95  4.91  2.51  2.99 11.3 ]\n",
      "[69.96 65.28 67.43 ... 54.82 63.14 65.32]\n",
      "['High' 'Normal' 'Very-High' 'Low']\n"
     ]
    }
   ],
   "source": [
    "for i in dataIPM.columns:\n",
    "  print(dataIPM[i].unique())"
   ]
  },
  {
   "cell_type": "markdown",
   "metadata": {},
   "source": [
    "Melakukan proses melihat nilai frekuensi tiap kategori dari variabel data IPM"
   ]
  },
  {
   "cell_type": "code",
   "execution_count": 566,
   "metadata": {},
   "outputs": [
    {
     "name": "stdout",
     "output_type": "stream",
     "text": [
      "12.83    20\n",
      "12.48    17\n",
      "12.89    16\n",
      "12.84    15\n",
      "12.81    15\n",
      "         ..\n",
      "10.83     1\n",
      "16.53     1\n",
      "8.89      1\n",
      "10.47     1\n",
      "17.60     1\n",
      "Name: Harapan_Lama_Sekolah, Length: 499, dtype: int64\n",
      "7980     4\n",
      "11318    4\n",
      "13281    4\n",
      "10454    3\n",
      "11994    3\n",
      "        ..\n",
      "10868    1\n",
      "14968    1\n",
      "8825     1\n",
      "15696    1\n",
      "12290    1\n",
      "Name: Pengeluaran_Perkapita, Length: 1930, dtype: int64\n",
      "7.86     14\n",
      "8.51     11\n",
      "7.92     11\n",
      "7.85     11\n",
      "8.52     11\n",
      "         ..\n",
      "6.20      1\n",
      "11.32     1\n",
      "3.20      1\n",
      "4.77      1\n",
      "6.57      1\n",
      "Name: Rerata_Lama_Sekolah, Length: 633, dtype: int64\n",
      "71.60    9\n",
      "71.18    8\n",
      "70.18    8\n",
      "70.73    8\n",
      "71.40    7\n",
      "        ..\n",
      "70.90    1\n",
      "60.66    1\n",
      "62.83    1\n",
      "62.52    1\n",
      "69.50    1\n",
      "Name: Usia_Harapan_Hidup, Length: 1054, dtype: int64\n",
      "Normal       1128\n",
      "High          829\n",
      "Very-High     146\n",
      "Low            93\n",
      "Name: IPM, dtype: int64\n"
     ]
    }
   ],
   "source": [
    "for i in dataIPM.columns:\n",
    "  print(dataIPM[i].value_counts())"
   ]
  },
  {
   "cell_type": "markdown",
   "metadata": {},
   "source": [
    "TARGET DATA"
   ]
  },
  {
   "cell_type": "markdown",
   "metadata": {},
   "source": [
    "Menghapus variabel IPM dari dataset yang masuk sebagai variabel X dan inisialisasi variabel IPM sebagai variabel y"
   ]
  },
  {
   "cell_type": "code",
   "execution_count": 567,
   "metadata": {},
   "outputs": [],
   "source": [
    "X = dataIPM.drop(['IPM'],axis = 1)\n",
    "y = dataIPM['IPM']"
   ]
  },
  {
   "cell_type": "markdown",
   "metadata": {},
   "source": [
    "Melakukan split data untuk menjadikan data IPM menjadi data trainning 80 % dan data testing sebesar 20 % dengan pemilihan random data sebesar 42."
   ]
  },
  {
   "cell_type": "code",
   "execution_count": 568,
   "metadata": {},
   "outputs": [
    {
     "data": {
      "text/plain": [
       "((1756, 4), (440, 4))"
      ]
     },
     "execution_count": 568,
     "metadata": {},
     "output_type": "execute_result"
    }
   ],
   "source": [
    "X_train, X_test, y_train, y_test = train_test_split(X, y, test_size = 0.2, random_state = 42)\n",
    "X_train.shape, X_test.shape"
   ]
  },
  {
   "cell_type": "markdown",
   "metadata": {},
   "source": [
    "## Langkah 4 (Modelling)"
   ]
  },
  {
   "cell_type": "markdown",
   "metadata": {},
   "source": [
    "# Random Forest"
   ]
  },
  {
   "cell_type": "markdown",
   "metadata": {},
   "source": [
    "Melakukan proses pembuatan model Random forest dengan estimator 60 menggunakan kategori entropy"
   ]
  },
  {
   "cell_type": "code",
   "execution_count": 569,
   "metadata": {},
   "outputs": [],
   "source": [
    "model_randomforest = RandomForestClassifier(n_estimators=60, criterion=\"entropy\")"
   ]
  },
  {
   "cell_type": "markdown",
   "metadata": {},
   "source": [
    "Modelling random forest dengan pengambilan data trainning"
   ]
  },
  {
   "cell_type": "code",
   "execution_count": 570,
   "metadata": {},
   "outputs": [
    {
     "data": {
      "text/plain": [
       "RandomForestClassifier(criterion='entropy', n_estimators=60)"
      ]
     },
     "execution_count": 570,
     "metadata": {},
     "output_type": "execute_result"
    }
   ],
   "source": [
    "model_randomforest.fit(X_train, y_train)"
   ]
  },
  {
   "cell_type": "markdown",
   "metadata": {},
   "source": [
    "Inisialisasi hasil prediksi model Random Forest kategori entropy  dari data trainning dengan nama y_pred1 dan data testing dengan nama y_pred2"
   ]
  },
  {
   "cell_type": "code",
   "execution_count": 571,
   "metadata": {},
   "outputs": [],
   "source": [
    "y_pred1 = model_randomforest.predict(X_train)\n",
    "y_pred2= model_randomforest.predict(X_test)\n"
   ]
  },
  {
   "cell_type": "markdown",
   "metadata": {},
   "source": [
    "Melakukan proses pembuatan model Random forest dengan estimator 60 menggunakan kategori gini"
   ]
  },
  {
   "cell_type": "code",
   "execution_count": 572,
   "metadata": {},
   "outputs": [],
   "source": [
    "model_randomforest = RandomForestClassifier(n_estimators=60, criterion=\"gini\")"
   ]
  },
  {
   "cell_type": "markdown",
   "metadata": {},
   "source": [
    "Modelling random forest dengan pengambilan data trainning"
   ]
  },
  {
   "cell_type": "code",
   "execution_count": 573,
   "metadata": {},
   "outputs": [
    {
     "data": {
      "text/plain": [
       "RandomForestClassifier(n_estimators=60)"
      ]
     },
     "execution_count": 573,
     "metadata": {},
     "output_type": "execute_result"
    }
   ],
   "source": [
    "model_randomforest.fit(X_train, y_train)"
   ]
  },
  {
   "cell_type": "markdown",
   "metadata": {},
   "source": [
    "Inisialisasi hasil prediksi model Random Forest kategori gini dari data trainning dengan nama y_pred3 dan data testing dengan nama y_pred4"
   ]
  },
  {
   "cell_type": "code",
   "execution_count": 574,
   "metadata": {},
   "outputs": [],
   "source": [
    "y_pred3 = model_randomforest.predict(X_train)\n",
    "y_pred4= model_randomforest.predict(X_test)\n"
   ]
  },
  {
   "cell_type": "markdown",
   "metadata": {},
   "source": [
    "## K-Nearest Neighbor"
   ]
  },
  {
   "cell_type": "markdown",
   "metadata": {},
   "source": [
    "Melakukan proses pembuatan model KNN dengan neighbors 6"
   ]
  },
  {
   "cell_type": "code",
   "execution_count": 575,
   "metadata": {},
   "outputs": [
    {
     "data": {
      "text/plain": [
       "KNeighborsClassifier(n_neighbors=6)"
      ]
     },
     "execution_count": 575,
     "metadata": {},
     "output_type": "execute_result"
    }
   ],
   "source": [
    "model_knn = KNeighborsClassifier(n_neighbors=6)\n",
    "model_knn.fit(X_train, y_train)"
   ]
  },
  {
   "cell_type": "markdown",
   "metadata": {},
   "source": [
    "Inisialisasi hasil prediksi model K-Nearest Neighbors dari data trainning dengan nama y_pred5 dan data testing dengan nama y_pred6"
   ]
  },
  {
   "cell_type": "code",
   "execution_count": 576,
   "metadata": {},
   "outputs": [],
   "source": [
    "y_pred5 = model_knn.predict(X_train)\n",
    "y_pred6= model_knn.predict(X_test)\n"
   ]
  },
  {
   "cell_type": "markdown",
   "metadata": {},
   "source": [
    "## Langkah 5 (Evaluation)"
   ]
  },
  {
   "cell_type": "markdown",
   "metadata": {},
   "source": [
    "Melakukan Evaluasi untuk model random forest kategori entrophy data trainning dengan pemanggilan data y_pred1"
   ]
  },
  {
   "cell_type": "code",
   "execution_count": 577,
   "metadata": {},
   "outputs": [
    {
     "name": "stdout",
     "output_type": "stream",
     "text": [
      "Confusion Matrix:\n",
      "[[665   0   0   0]\n",
      " [  0  77   0   0]\n",
      " [  0   0 901   0]\n",
      " [  0   0   0 113]]\n",
      "\n",
      "Classification Report Training Model (Random Forest Entrophy) :\n",
      "              precision    recall  f1-score   support\n",
      "\n",
      "        High       1.00      1.00      1.00       665\n",
      "         Low       1.00      1.00      1.00        77\n",
      "      Normal       1.00      1.00      1.00       901\n",
      "   Very-High       1.00      1.00      1.00       113\n",
      "\n",
      "    accuracy                           1.00      1756\n",
      "   macro avg       1.00      1.00      1.00      1756\n",
      "weighted avg       1.00      1.00      1.00      1756\n",
      "\n"
     ]
    }
   ],
   "source": [
    "from sklearn.metrics import classification_report, confusion_matrix, accuracy_score\n",
    "result = confusion_matrix(y_train, y_pred1)\n",
    "print(\"Confusion Matrix:\")\n",
    "print(result)\n",
    "result1 = classification_report(y_train, y_pred1)\n",
    "print(\"\\nClassification Report Training Model (Random Forest Entrophy) :\",)\n",
    "print (result1)"
   ]
  },
  {
   "cell_type": "markdown",
   "metadata": {},
   "source": [
    "Melakukan Evaluasi untuk model random forest kategori entrophy data testing dengan pemanggilan data y_pred2"
   ]
  },
  {
   "cell_type": "code",
   "execution_count": 578,
   "metadata": {},
   "outputs": [
    {
     "name": "stdout",
     "output_type": "stream",
     "text": [
      "Confusion Matrix:\n",
      "[[158   0   3   3]\n",
      " [  0  16   0   0]\n",
      " [  7   0 220   0]\n",
      " [  1   0   0  32]]\n",
      "\n",
      "Classification Report Testing Model (Random Forest Entrophy) :\n",
      "              precision    recall  f1-score   support\n",
      "\n",
      "        High       0.95      0.96      0.96       164\n",
      "         Low       1.00      1.00      1.00        16\n",
      "      Normal       0.99      0.97      0.98       227\n",
      "   Very-High       0.91      0.97      0.94        33\n",
      "\n",
      "    accuracy                           0.97       440\n",
      "   macro avg       0.96      0.98      0.97       440\n",
      "weighted avg       0.97      0.97      0.97       440\n",
      "\n"
     ]
    }
   ],
   "source": [
    "from sklearn.metrics import classification_report, confusion_matrix, accuracy_score\n",
    "result = confusion_matrix(y_test, y_pred2)\n",
    "print(\"Confusion Matrix:\")\n",
    "print(result)\n",
    "result1 = classification_report(y_test, y_pred2)\n",
    "print(\"\\nClassification Report Testing Model (Random Forest Entrophy) :\",)\n",
    "print (result1)"
   ]
  },
  {
   "cell_type": "markdown",
   "metadata": {},
   "source": [
    "Melakukan Evaluasi untuk model random forest kategori gini data trainning dengan pemanggilan data y_pred3"
   ]
  },
  {
   "cell_type": "code",
   "execution_count": 579,
   "metadata": {},
   "outputs": [
    {
     "name": "stdout",
     "output_type": "stream",
     "text": [
      "Confusion Matrix:\n",
      "[[665   0   0   0]\n",
      " [  0  77   0   0]\n",
      " [  0   0 901   0]\n",
      " [  0   0   0 113]]\n",
      "\n",
      "Classification Report Training Model (Random Forest Gini) :\n",
      "              precision    recall  f1-score   support\n",
      "\n",
      "        High       1.00      1.00      1.00       665\n",
      "         Low       1.00      1.00      1.00        77\n",
      "      Normal       1.00      1.00      1.00       901\n",
      "   Very-High       1.00      1.00      1.00       113\n",
      "\n",
      "    accuracy                           1.00      1756\n",
      "   macro avg       1.00      1.00      1.00      1756\n",
      "weighted avg       1.00      1.00      1.00      1756\n",
      "\n"
     ]
    }
   ],
   "source": [
    "from sklearn.metrics import classification_report, confusion_matrix, accuracy_score\n",
    "result = confusion_matrix(y_train, y_pred3)\n",
    "print(\"Confusion Matrix:\")\n",
    "print(result)\n",
    "result1 = classification_report(y_train, y_pred3)\n",
    "print(\"\\nClassification Report Training Model (Random Forest Gini) :\",)\n",
    "print (result1)"
   ]
  },
  {
   "cell_type": "markdown",
   "metadata": {},
   "source": [
    "Melakukan Evaluasi untuk model random forest kategori gini data testing dengan pemanggilan data y_pred4"
   ]
  },
  {
   "cell_type": "code",
   "execution_count": 580,
   "metadata": {},
   "outputs": [
    {
     "name": "stdout",
     "output_type": "stream",
     "text": [
      "Confusion Matrix:\n",
      "[[161   0   2   1]\n",
      " [  0  15   1   0]\n",
      " [  5   0 222   0]\n",
      " [  1   0   0  32]]\n",
      "\n",
      "Classification Report Testing Model (Random Forest Gini) :\n",
      "              precision    recall  f1-score   support\n",
      "\n",
      "        High       0.96      0.98      0.97       164\n",
      "         Low       1.00      0.94      0.97        16\n",
      "      Normal       0.99      0.98      0.98       227\n",
      "   Very-High       0.97      0.97      0.97        33\n",
      "\n",
      "    accuracy                           0.98       440\n",
      "   macro avg       0.98      0.97      0.97       440\n",
      "weighted avg       0.98      0.98      0.98       440\n",
      "\n"
     ]
    }
   ],
   "source": [
    "from sklearn.metrics import classification_report, confusion_matrix, accuracy_score\n",
    "result = confusion_matrix(y_test, y_pred4)\n",
    "print(\"Confusion Matrix:\")\n",
    "print(result)\n",
    "result1 = classification_report(y_test, y_pred4)\n",
    "print(\"\\nClassification Report Testing Model (Random Forest Gini) :\",)\n",
    "print (result1)"
   ]
  },
  {
   "cell_type": "markdown",
   "metadata": {},
   "source": [
    "Melakukan Evaluasi untuk model k-nearest neighbors data trainning dengan pemanggilan data y_pred5"
   ]
  },
  {
   "cell_type": "code",
   "execution_count": 581,
   "metadata": {},
   "outputs": [
    {
     "name": "stdout",
     "output_type": "stream",
     "text": [
      "Confusion Matrix:\n",
      "[[585   0  68  12]\n",
      " [  0  62  15   0]\n",
      " [161   6 734   0]\n",
      " [ 27   0   0  86]]\n",
      "\n",
      "Classification Report Training Model (K-Nearest Neighbors) :\n",
      "              precision    recall  f1-score   support\n",
      "\n",
      "        High       0.76      0.88      0.81       665\n",
      "         Low       0.91      0.81      0.86        77\n",
      "      Normal       0.90      0.81      0.85       901\n",
      "   Very-High       0.88      0.76      0.82       113\n",
      "\n",
      "    accuracy                           0.84      1756\n",
      "   macro avg       0.86      0.82      0.83      1756\n",
      "weighted avg       0.84      0.84      0.84      1756\n",
      "\n"
     ]
    }
   ],
   "source": [
    "from sklearn.metrics import classification_report, confusion_matrix, accuracy_score\n",
    "result = confusion_matrix(y_train, y_pred5)\n",
    "print(\"Confusion Matrix:\")\n",
    "print(result)\n",
    "result1 = classification_report(y_train, y_pred5)\n",
    "print(\"\\nClassification Report Training Model (K-Nearest Neighbors) :\",)\n",
    "print (result1)"
   ]
  },
  {
   "cell_type": "markdown",
   "metadata": {},
   "source": [
    "Melakukan Evaluasi untuk model k-nearest neighbors data testing dengan pemanggilan data y_pred6"
   ]
  },
  {
   "cell_type": "code",
   "execution_count": 582,
   "metadata": {},
   "outputs": [
    {
     "name": "stdout",
     "output_type": "stream",
     "text": [
      "Confusion Matrix:\n",
      "[[138   0  23   3]\n",
      " [  0  12   4   0]\n",
      " [ 51   2 174   0]\n",
      " [  8   0   0  25]]\n",
      "\n",
      "Classification Report Testing Model (K-Nearest Neighbors) :\n",
      "              precision    recall  f1-score   support\n",
      "\n",
      "        High       0.70      0.84      0.76       164\n",
      "         Low       0.86      0.75      0.80        16\n",
      "      Normal       0.87      0.77      0.81       227\n",
      "   Very-High       0.89      0.76      0.82        33\n",
      "\n",
      "    accuracy                           0.79       440\n",
      "   macro avg       0.83      0.78      0.80       440\n",
      "weighted avg       0.81      0.79      0.80       440\n",
      "\n"
     ]
    }
   ],
   "source": [
    "from sklearn.metrics import classification_report, confusion_matrix, accuracy_score\n",
    "result = confusion_matrix(y_test, y_pred6)\n",
    "print(\"Confusion Matrix:\")\n",
    "print(result)\n",
    "result1 = classification_report(y_test, y_pred6)\n",
    "print(\"\\nClassification Report Testing Model (K-Nearest Neighbors) :\",)\n",
    "print (result1)"
   ]
  },
  {
   "cell_type": "markdown",
   "metadata": {},
   "source": [
    "## Langkah 6 (Deployment)"
   ]
  },
  {
   "cell_type": "markdown",
   "metadata": {},
   "source": [
    "Deployment adalah kegiatan yang bertujuan untuk menyebarkan aplikasi yang telah dikerjakan oleh para pengembang. Penyebarannya dapat melalui beragam cara tergantung dari jenis aplikasinya.Model yang sudah jadi akan saya deployment menggunakan Heroku."
   ]
  },
  {
   "cell_type": "code",
   "execution_count": null,
   "metadata": {},
   "outputs": [],
   "source": []
  }
 ],
 "metadata": {
  "kernelspec": {
   "display_name": "Python 3 (ipykernel)",
   "language": "python",
   "name": "python3"
  },
  "language_info": {
   "codemirror_mode": {
    "name": "ipython",
    "version": 3
   },
   "file_extension": ".py",
   "mimetype": "text/x-python",
   "name": "python",
   "nbconvert_exporter": "python",
   "pygments_lexer": "ipython3",
   "version": "3.9.13"
  }
 },
 "nbformat": 4,
 "nbformat_minor": 4
}
